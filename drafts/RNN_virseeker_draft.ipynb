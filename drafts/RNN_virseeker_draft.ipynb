{
 "cells": [
  {
   "cell_type": "code",
   "execution_count": 254,
   "id": "842e5de9",
   "metadata": {
    "scrolled": true
   },
   "outputs": [
    {
     "name": "stdout",
     "output_type": "stream",
     "text": [
      "Using cpu device\n"
     ]
    }
   ],
   "source": [
    "import pandas as pd\n",
    "import numpy as np\n",
    "import matplotlib.pyplot as plt\n",
    "import seaborn as sns\n",
    "from sklearn.manifold import TSNE\n",
    "from sklearn.decomposition import PCA\n",
    "\n",
    "\n",
    "import torch\n",
    "from torch import nn\n",
    "import pytorch_model_summary as pms \n",
    "\n",
    "from torch.utils.data import TensorDataset, DataLoader\n",
    "\n",
    "from pytorchtools import EarlyStopping\n",
    "\n",
    "# Get cpu, gpu or mps device for training.\n",
    "device = (\n",
    "    \"cuda\"\n",
    "    if torch.cuda.is_available()\n",
    "    else \"mps\"\n",
    "    if torch.backends.mps.is_available()\n",
    "    else \"cpu\"\n",
    ")\n",
    "print(f\"Using {device} device\")\n"
   ]
  },
  {
   "cell_type": "code",
   "execution_count": 255,
   "id": "19db4bb4",
   "metadata": {},
   "outputs": [
    {
     "data": {
      "text/plain": [
       "((8999, 500), (8999, 2))"
      ]
     },
     "execution_count": 255,
     "metadata": {},
     "output_type": "execute_result"
    }
   ],
   "source": [
    "X = pd.read_csv('data/virseeker/rnn_train.csv', header = None ).iloc[:8999,]\n",
    "y = pd.read_csv('data/virseeker/label_train.csv', header = None)\n",
    "X.shape , y.shape"
   ]
  },
  {
   "cell_type": "code",
   "execution_count": 256,
   "id": "af3d63b5",
   "metadata": {},
   "outputs": [
    {
     "data": {
      "text/plain": [
       "0\n",
       "1    4500\n",
       "0    4499\n",
       "Name: count, dtype: int64"
      ]
     },
     "execution_count": 256,
     "metadata": {},
     "output_type": "execute_result"
    }
   ],
   "source": [
    "y[0].value_counts()"
   ]
  },
  {
   "cell_type": "code",
   "execution_count": 257,
   "id": "1a1a3ef0",
   "metadata": {},
   "outputs": [],
   "source": [
    "IDX = np.arange( y.shape[0] )\n",
    "np.random.shuffle(IDX)\n",
    "\n",
    "valid_fraction = 0.1\n",
    "valid_N = int( len( IDX ) * valid_fraction )\n",
    "\n",
    "X_train = X.loc[ IDX[valid_N:] , : ]\n",
    "X_valid = X.loc[ IDX[:valid_N] , : ]\n",
    "\n",
    "y_train = y.loc[ IDX[valid_N:] , 0 ]\n",
    "y_valid = y.loc[ IDX[:valid_N] , 0 ]\n",
    "\n"
   ]
  },
  {
   "cell_type": "code",
   "execution_count": 258,
   "id": "c961ac34",
   "metadata": {},
   "outputs": [
    {
     "data": {
      "text/plain": [
       "899"
      ]
     },
     "execution_count": 258,
     "metadata": {},
     "output_type": "execute_result"
    }
   ],
   "source": [
    "valid_N"
   ]
  },
  {
   "cell_type": "code",
   "execution_count": 259,
   "id": "07d98b71",
   "metadata": {},
   "outputs": [
    {
     "data": {
      "text/plain": [
       "((899,), (8100,))"
      ]
     },
     "execution_count": 259,
     "metadata": {},
     "output_type": "execute_result"
    }
   ],
   "source": [
    "y_valid.shape , y_train.shape"
   ]
  },
  {
   "cell_type": "code",
   "execution_count": 260,
   "id": "73e8c818",
   "metadata": {},
   "outputs": [],
   "source": [
    "X_train = torch.LongTensor( np.array(X_train)-1 )\n",
    "y_train = torch.Tensor( np.array(y_train) )\n",
    "dataset_train = TensorDataset(X_train,y_train)\n",
    "train_dataloader = DataLoader(dataset_train , batch_size=128)"
   ]
  },
  {
   "cell_type": "code",
   "execution_count": 261,
   "id": "fecdae76",
   "metadata": {},
   "outputs": [],
   "source": [
    "X_valid = torch.LongTensor( np.array(X_valid)-1 )\n",
    "y_valid = torch.Tensor( np.array(y_valid) )\n",
    "dataset_valid = TensorDataset(X_valid,y_valid)\n",
    "valid_dataloader = DataLoader(dataset_valid , batch_size=128)"
   ]
  },
  {
   "cell_type": "code",
   "execution_count": null,
   "id": "c04fcd83",
   "metadata": {},
   "outputs": [],
   "source": []
  },
  {
   "cell_type": "code",
   "execution_count": 262,
   "id": "c892cd2f",
   "metadata": {},
   "outputs": [
    {
     "name": "stdout",
     "output_type": "stream",
     "text": [
      "classifier_LSTM(\n",
      "  (rnn): LSTM(4, 3)\n",
      "  (classifier): Sequential(\n",
      "    (0): Linear(in_features=3, out_features=1, bias=True)\n",
      "    (1): Sigmoid()\n",
      "  )\n",
      ")\n"
     ]
    }
   ],
   "source": [
    "class classifier_LSTM(nn.Module):\n",
    "    \n",
    "    def __init__(self , num_classes = 5 , \n",
    "                        hidden_dim=3 ,\n",
    "                        dropout_fraction = 0.1):\n",
    "        super().__init__()\n",
    "        \n",
    "        self.num_classes = num_classes\n",
    "        self.rnn = nn.LSTM( input_size = num_classes,\n",
    "                          hidden_size = hidden_dim,\n",
    "                          num_layers = 1)\n",
    "        \n",
    "        self.classifier = nn.Sequential(nn.Linear( hidden_dim,1 ) , \n",
    "                                        nn.Sigmoid())\n",
    "\n",
    "        \n",
    "    def forward(self, sequence):\n",
    "        \n",
    "        ## x is made of a single 1D sequence of arbitrary length\n",
    "        # assert len( x.shape ) == 1\n",
    "        \n",
    "        x = nn.functional.one_hot( sequence ,\n",
    "                                   num_classes = self.num_classes )\n",
    "        x = x.type('torch.FloatTensor')\n",
    "        \n",
    "        x,_ = self.rnn( x )\n",
    "        \n",
    "        \n",
    "        ## we grab the last element of each sequence to feed it to the classifier:\n",
    "        x = x[:,-1,:]\n",
    "        \n",
    "        out = self.classifier( x )\n",
    "        return out.squeeze()\n",
    "\n",
    "\n",
    "\n",
    "model = classifier_LSTM(num_classes = 4).to(device)\n",
    "print(model)"
   ]
  },
  {
   "cell_type": "code",
   "execution_count": 263,
   "id": "3919ccf1",
   "metadata": {},
   "outputs": [
    {
     "data": {
      "text/plain": [
       "tensor([0.4234, 0.4452, 0.4610, 0.4487, 0.4726], grad_fn=<SqueezeBackward0>)"
      ]
     },
     "execution_count": 263,
     "metadata": {},
     "output_type": "execute_result"
    }
   ],
   "source": [
    "x,y = dataset_train[:5]\n",
    "pred = model(x)\n",
    "pred"
   ]
  },
  {
   "cell_type": "code",
   "execution_count": 264,
   "id": "72f3aef6",
   "metadata": {},
   "outputs": [
    {
     "data": {
      "text/plain": [
       "tensor([0., 1., 1., 0., 0.])"
      ]
     },
     "execution_count": 264,
     "metadata": {},
     "output_type": "execute_result"
    }
   ],
   "source": [
    "y"
   ]
  },
  {
   "cell_type": "code",
   "execution_count": 265,
   "id": "5c6ab410",
   "metadata": {},
   "outputs": [
    {
     "data": {
      "text/plain": [
       "tensor(0.6739, grad_fn=<BinaryCrossEntropyBackward0>)"
      ]
     },
     "execution_count": 265,
     "metadata": {},
     "output_type": "execute_result"
    }
   ],
   "source": [
    "loss_fn(pred,y)"
   ]
  },
  {
   "cell_type": "code",
   "execution_count": 266,
   "id": "e37d4dad",
   "metadata": {},
   "outputs": [
    {
     "data": {
      "text/plain": [
       "tensor(3)"
      ]
     },
     "execution_count": 266,
     "metadata": {},
     "output_type": "execute_result"
    }
   ],
   "source": [
    "((pred>0.5) == y).sum()"
   ]
  },
  {
   "cell_type": "code",
   "execution_count": 267,
   "id": "d380afe1",
   "metadata": {},
   "outputs": [],
   "source": [
    "def train(dataloader, model, loss_fn, optimizer , echo = True):\n",
    "    \n",
    "    size = len(dataloader.dataset) # how many batches do we have\n",
    "    model.train() #     Sets the module in training mode.\n",
    "    \n",
    "    for batch, (X, y) in enumerate(dataloader): # for each batch\n",
    "        X, y = X.to(device), y.to(device) # send the data to the GPU or whatever device you use for training\n",
    "\n",
    "        # Compute prediction error\n",
    "        pred = model(X)              # prediction for the model -> forward pass\n",
    "        loss = loss_fn(pred, y)      # loss function from these prediction\n",
    "\n",
    "        # Backpropagation\n",
    "        loss.backward()              # backward propagation \n",
    "        #                            https://ml-cheatsheet.readthedocs.io/en/latest/backpropagation.html\n",
    "        #                            https://pytorch.org/tutorials/beginner/basics/autogradqs_tutorial.html\n",
    "        \n",
    "        optimizer.step()             \n",
    "        optimizer.zero_grad()        # reset the gradients\n",
    "                                     # https://stackoverflow.com/questions/48001598/why-do-we-need-to-call-zero-grad-in-pytorch\n",
    "\n",
    "        if echo:\n",
    "            current =  (batch + 1) * len(X)\n",
    "            print(f\"loss: {loss.item():>7f}  [{current:>5d}/{size:>5d}]\")\n",
    "    \n",
    "    # return the last batch loss:\n",
    "    return loss.item()"
   ]
  },
  {
   "cell_type": "code",
   "execution_count": 268,
   "id": "de09bbc9",
   "metadata": {},
   "outputs": [],
   "source": [
    "def valid(dataloader, model, loss_fn, echo = True):\n",
    "    size = len(dataloader.dataset)\n",
    "    num_batches = len(dataloader)\n",
    "    model.eval() #     Sets the module in evaluation mode\n",
    "    valid_loss, correct = 0, 0\n",
    "    with torch.no_grad(): ## disables tracking of gradient: prevent accidental training + speeds up computation\n",
    "        for X, y in dataloader:\n",
    "            X, y = X.to(device), y.to(device)\n",
    "            pred = model(X)\n",
    "            valid_loss += loss_fn(pred, y).item()  ## accumulating the loss function over the batches\n",
    "            \n",
    "            correct += ((pred>0.5) == y).sum().item() ## counting number of true predictions\n",
    "            \n",
    "    valid_loss /= num_batches\n",
    "    correct /= size\n",
    "    if echo:\n",
    "        print(f\"Valid Error: \\n Accuracy: {(100*correct):>0.1f}%, Avg loss: {valid_loss:>8f} \\n\")\n",
    "    ## return the average loss / batch\n",
    "    return valid_loss\n"
   ]
  },
  {
   "cell_type": "markdown",
   "id": "13a85a2d",
   "metadata": {},
   "source": [
    " ### actual training"
   ]
  },
  {
   "cell_type": "code",
   "execution_count": 273,
   "id": "e483800c",
   "metadata": {},
   "outputs": [],
   "source": [
    "model = classifier_LSTM( num_classes = 4 , \n",
    "                        hidden_dim= 128,\n",
    "                        dropout_fraction = 0.1).to(device)\n",
    "\n",
    "# list of loss functions https://pytorch.org/docs/stable/nn.html#loss-functions\n",
    "# https://ml-cheatsheet.readthedocs.io/en/latest/loss_functions.html#toc-entry-1\n",
    "loss_fn = nn.BCELoss()\n",
    "\n",
    "# optimizer https://pytorch.org/docs/stable/optim.html\n",
    "# https://ml-cheatsheet.readthedocs.io/en/latest/optimizers.html#sgd\n",
    "optimizer = torch.optim.Adam(model.parameters(), lr= 10**-4 )\n",
    "\n",
    "train_losses = []\n",
    "valid_losses = []\n"
   ]
  },
  {
   "cell_type": "code",
   "execution_count": 274,
   "id": "15bdac11",
   "metadata": {},
   "outputs": [
    {
     "name": "stdout",
     "output_type": "stream",
     "text": [
      "loss: 0.692246  [  128/ 8100]\n",
      "loss: 0.691434  [  256/ 8100]\n",
      "loss: 0.690921  [  384/ 8100]\n",
      "loss: 0.691959  [  512/ 8100]\n",
      "loss: 0.689907  [  640/ 8100]\n",
      "loss: 0.698804  [  768/ 8100]\n",
      "loss: 0.690959  [  896/ 8100]\n",
      "loss: 0.692382  [ 1024/ 8100]\n",
      "loss: 0.692292  [ 1152/ 8100]\n",
      "loss: 0.691437  [ 1280/ 8100]\n",
      "loss: 0.696530  [ 1408/ 8100]\n",
      "loss: 0.693348  [ 1536/ 8100]\n",
      "loss: 0.696363  [ 1664/ 8100]\n",
      "loss: 0.691826  [ 1792/ 8100]\n",
      "loss: 0.689753  [ 1920/ 8100]\n",
      "loss: 0.696901  [ 2048/ 8100]\n",
      "loss: 0.694364  [ 2176/ 8100]\n",
      "loss: 0.692533  [ 2304/ 8100]\n",
      "loss: 0.696727  [ 2432/ 8100]\n",
      "loss: 0.694395  [ 2560/ 8100]\n",
      "loss: 0.690980  [ 2688/ 8100]\n",
      "loss: 0.689498  [ 2816/ 8100]\n",
      "loss: 0.693351  [ 2944/ 8100]\n",
      "loss: 0.696460  [ 3072/ 8100]\n",
      "loss: 0.693956  [ 3200/ 8100]\n",
      "loss: 0.693471  [ 3328/ 8100]\n",
      "loss: 0.694704  [ 3456/ 8100]\n",
      "loss: 0.692302  [ 3584/ 8100]\n",
      "loss: 0.694279  [ 3712/ 8100]\n",
      "loss: 0.691503  [ 3840/ 8100]\n",
      "loss: 0.692421  [ 3968/ 8100]\n",
      "loss: 0.693343  [ 4096/ 8100]\n",
      "loss: 0.693342  [ 4224/ 8100]\n",
      "loss: 0.694357  [ 4352/ 8100]\n",
      "loss: 0.689126  [ 4480/ 8100]\n",
      "loss: 0.694816  [ 4608/ 8100]\n",
      "loss: 0.689941  [ 4736/ 8100]\n",
      "loss: 0.693377  [ 4864/ 8100]\n",
      "loss: 0.691748  [ 4992/ 8100]\n",
      "loss: 0.696012  [ 5120/ 8100]\n",
      "loss: 0.690366  [ 5248/ 8100]\n",
      "loss: 0.697466  [ 5376/ 8100]\n",
      "loss: 0.693196  [ 5504/ 8100]\n",
      "loss: 0.695454  [ 5632/ 8100]\n",
      "loss: 0.694447  [ 5760/ 8100]\n",
      "loss: 0.692493  [ 5888/ 8100]\n",
      "loss: 0.692311  [ 6016/ 8100]\n",
      "loss: 0.693065  [ 6144/ 8100]\n",
      "loss: 0.694507  [ 6272/ 8100]\n",
      "loss: 0.691639  [ 6400/ 8100]\n",
      "loss: 0.693889  [ 6528/ 8100]\n",
      "loss: 0.696478  [ 6656/ 8100]\n",
      "loss: 0.693471  [ 6784/ 8100]\n",
      "loss: 0.694620  [ 6912/ 8100]\n",
      "loss: 0.692243  [ 7040/ 8100]\n",
      "loss: 0.693876  [ 7168/ 8100]\n",
      "loss: 0.694252  [ 7296/ 8100]\n",
      "loss: 0.693128  [ 7424/ 8100]\n",
      "loss: 0.694830  [ 7552/ 8100]\n",
      "loss: 0.692803  [ 7680/ 8100]\n",
      "loss: 0.690650  [ 7808/ 8100]\n",
      "loss: 0.694346  [ 7936/ 8100]\n",
      "loss: 0.693528  [ 8064/ 8100]\n",
      "loss: 0.693456  [ 2304/ 8100]\n",
      "Valid Error: \n",
      " Accuracy: 48.8%, Avg loss: 0.694295 \n",
      "\n",
      "CPU times: user 50 s, sys: 10.4 s, total: 1min\n",
      "Wall time: 15.1 s\n"
     ]
    }
   ],
   "source": [
    "%%time\n",
    "train_losses.append( train(train_dataloader, model, loss_fn, optimizer, echo=True) )\n",
    "valid_losses.append( valid(valid_dataloader, model, loss_fn , echo = True) )\n"
   ]
  },
  {
   "cell_type": "code",
   "execution_count": 275,
   "id": "dd0c45a0",
   "metadata": {},
   "outputs": [
    {
     "name": "stdout",
     "output_type": "stream",
     "text": [
      "Epoch 1\n",
      "-------------------------------\n",
      "Valid Error: \n",
      " Accuracy: 50.7%, Avg loss: 0.693602 \n",
      "\n",
      "Epoch 6\n",
      "-------------------------------\n",
      "Valid Error: \n",
      " Accuracy: 54.3%, Avg loss: 0.692997 \n",
      "\n",
      "Epoch 11\n",
      "-------------------------------\n",
      "Valid Error: \n",
      " Accuracy: 55.4%, Avg loss: 0.692919 \n",
      "\n",
      "Epoch 16\n",
      "-------------------------------\n",
      "Valid Error: \n",
      " Accuracy: 56.2%, Avg loss: 0.692434 \n",
      "\n",
      "Done!\n",
      "CPU times: user 23min 34s, sys: 4min 52s, total: 28min 26s\n",
      "Wall time: 7min 7s\n"
     ]
    }
   ],
   "source": [
    "%%time\n",
    "\n",
    "epochs = 20\n",
    "\n",
    "for t in range(epochs):\n",
    "    echo = (t%5 == 0)\n",
    "    if echo:\n",
    "        print(f\"Epoch {t+1}\\n-------------------------------\")\n",
    "    train_losses.append( train(train_dataloader, model, loss_fn, optimizer, echo=False) )\n",
    "    valid_losses.append( valid(valid_dataloader, model, loss_fn , echo = echo) )\n",
    "print(\"Done!\")"
   ]
  },
  {
   "cell_type": "code",
   "execution_count": 276,
   "id": "22f84e43",
   "metadata": {
    "scrolled": false
   },
   "outputs": [
    {
     "data": {
      "text/plain": [
       "<matplotlib.legend.Legend at 0x7f8265b086d0>"
      ]
     },
     "execution_count": 276,
     "metadata": {},
     "output_type": "execute_result"
    },
    {
     "data": {
      "image/png": "[encoded data removed]",
      "text/plain": [
       "<Figure size 640x480 with 1 Axes>"
      ]
     },
     "metadata": {},
     "output_type": "display_data"
    }
   ],
   "source": [
    "plt.plot( train_losses , label='train' )\n",
    "plt.plot( valid_losses , label='valid' )\n",
    "plt.legend()"
   ]
  },
  {
   "cell_type": "markdown",
   "id": "c9cc842c",
   "metadata": {},
   "source": [
    "## trying with a simple classifier"
   ]
  },
  {
   "cell_type": "code",
   "execution_count": 214,
   "id": "4c8d5cc8",
   "metadata": {},
   "outputs": [
    {
     "name": "stdout",
     "output_type": "stream",
     "text": [
      "classifier_D(\n",
      "  (layers): Sequential(\n",
      "    (0): Linear(in_features=4, out_features=3, bias=True)\n",
      "    (1): ReLU()\n",
      "    (2): Linear(in_features=3, out_features=1, bias=True)\n",
      "    (3): Sigmoid()\n",
      "  )\n",
      ")\n"
     ]
    }
   ],
   "source": [
    "class classifier_D(nn.Module):\n",
    "    \n",
    "    def __init__(self , num_classes = 5 , \n",
    "                        hidden_dim=3 ,\n",
    "                        dropout_fraction = 0.1):\n",
    "        super().__init__()\n",
    "        \n",
    "        self.num_classes = num_classes\n",
    "       \n",
    "        self.layers = nn.Sequential( nn.Linear( num_classes , hidden_dim ) ,\n",
    "                                        nn.ReLU(),\n",
    "                                        nn.Linear( hidden_dim , 1 ) ,\n",
    "                                        nn.Sigmoid() )\n",
    "\n",
    "        \n",
    "    def forward(self, x):\n",
    "        out = self.layers( x.type('torch.FloatTensor') )\n",
    "        return out.squeeze()\n",
    "\n",
    "\n",
    "\n",
    "model = classifier_D(num_classes = 4).to(device)\n",
    "print(model)"
   ]
  },
  {
   "cell_type": "code",
   "execution_count": 215,
   "id": "85ac20fc",
   "metadata": {},
   "outputs": [],
   "source": [
    "model = classifier_D( num_classes = 500 , \n",
    "                        hidden_dim=32 ,\n",
    "                        dropout_fraction = 0.25).to(device)\n",
    "\n",
    "# list of loss functions https://pytorch.org/docs/stable/nn.html#loss-functions\n",
    "# https://ml-cheatsheet.readthedocs.io/en/latest/loss_functions.html#toc-entry-1\n",
    "loss_fn = nn.BCELoss()\n",
    "\n",
    "# optimizer https://pytorch.org/docs/stable/optim.html\n",
    "# https://ml-cheatsheet.readthedocs.io/en/latest/optimizers.html#sgd\n",
    "optimizer = torch.optim.SGD(model.parameters(), lr=1e-1) # 0.00001"
   ]
  },
  {
   "cell_type": "code",
   "execution_count": 216,
   "id": "b44d4e35",
   "metadata": {},
   "outputs": [
    {
     "data": {
      "text/plain": [
       "classifier_D(\n",
       "  (layers): Sequential(\n",
       "    (0): Linear(in_features=500, out_features=32, bias=True)\n",
       "    (1): ReLU()\n",
       "    (2): Linear(in_features=32, out_features=1, bias=True)\n",
       "    (3): Sigmoid()\n",
       "  )\n",
       ")"
      ]
     },
     "execution_count": 216,
     "metadata": {},
     "output_type": "execute_result"
    }
   ],
   "source": [
    "model"
   ]
  },
  {
   "cell_type": "code",
   "execution_count": 217,
   "id": "78c15dab",
   "metadata": {},
   "outputs": [
    {
     "name": "stdout",
     "output_type": "stream",
     "text": [
      "loss: 0.686128  [  128/ 8100]\n",
      "loss: 0.702792  [  256/ 8100]\n",
      "loss: 0.702249  [  384/ 8100]\n",
      "loss: 0.701432  [  512/ 8100]\n",
      "loss: 0.683425  [  640/ 8100]\n",
      "loss: 0.692852  [  768/ 8100]\n",
      "loss: 0.702964  [  896/ 8100]\n",
      "loss: 0.680643  [ 1024/ 8100]\n",
      "loss: 0.706761  [ 1152/ 8100]\n",
      "loss: 0.710505  [ 1280/ 8100]\n",
      "loss: 0.709749  [ 1408/ 8100]\n",
      "loss: 0.712573  [ 1536/ 8100]\n",
      "loss: 0.689250  [ 1664/ 8100]\n",
      "loss: 0.686767  [ 1792/ 8100]\n",
      "loss: 0.677645  [ 1920/ 8100]\n",
      "loss: 0.710043  [ 2048/ 8100]\n",
      "loss: 0.696183  [ 2176/ 8100]\n",
      "loss: 0.683496  [ 2304/ 8100]\n",
      "loss: 0.699655  [ 2432/ 8100]\n",
      "loss: 0.693532  [ 2560/ 8100]\n",
      "loss: 0.686555  [ 2688/ 8100]\n",
      "loss: 0.687145  [ 2816/ 8100]\n",
      "loss: 0.689685  [ 2944/ 8100]\n",
      "loss: 0.690965  [ 3072/ 8100]\n",
      "loss: 0.691080  [ 3200/ 8100]\n",
      "loss: 0.696838  [ 3328/ 8100]\n",
      "loss: 0.684216  [ 3456/ 8100]\n",
      "loss: 0.689371  [ 3584/ 8100]\n",
      "loss: 0.691514  [ 3712/ 8100]\n",
      "loss: 0.685675  [ 3840/ 8100]\n",
      "loss: 0.682789  [ 3968/ 8100]\n",
      "loss: 0.692128  [ 4096/ 8100]\n",
      "loss: 0.692306  [ 4224/ 8100]\n",
      "loss: 0.689259  [ 4352/ 8100]\n",
      "loss: 0.693018  [ 4480/ 8100]\n",
      "loss: 0.681485  [ 4608/ 8100]\n",
      "loss: 0.695828  [ 4736/ 8100]\n",
      "loss: 0.688754  [ 4864/ 8100]\n",
      "loss: 0.687159  [ 4992/ 8100]\n",
      "loss: 0.711260  [ 5120/ 8100]\n",
      "loss: 0.685385  [ 5248/ 8100]\n",
      "loss: 0.687995  [ 5376/ 8100]\n",
      "loss: 0.689366  [ 5504/ 8100]\n",
      "loss: 0.684989  [ 5632/ 8100]\n",
      "loss: 0.690311  [ 5760/ 8100]\n",
      "loss: 0.684914  [ 5888/ 8100]\n",
      "loss: 0.677061  [ 6016/ 8100]\n",
      "loss: 0.700222  [ 6144/ 8100]\n",
      "loss: 0.695209  [ 6272/ 8100]\n",
      "loss: 0.688247  [ 6400/ 8100]\n",
      "loss: 0.692673  [ 6528/ 8100]\n",
      "loss: 0.683880  [ 6656/ 8100]\n",
      "loss: 0.677854  [ 6784/ 8100]\n",
      "loss: 0.690046  [ 6912/ 8100]\n",
      "loss: 0.682127  [ 7040/ 8100]\n",
      "loss: 0.684830  [ 7168/ 8100]\n",
      "loss: 0.691212  [ 7296/ 8100]\n",
      "loss: 0.678296  [ 7424/ 8100]\n",
      "loss: 0.679511  [ 7552/ 8100]\n",
      "loss: 0.668610  [ 7680/ 8100]\n",
      "loss: 0.683990  [ 7808/ 8100]\n",
      "loss: 0.700011  [ 7936/ 8100]\n",
      "loss: 0.693418  [ 8064/ 8100]\n",
      "loss: 0.679275  [ 2304/ 8100]\n",
      "Valid Error: \n",
      " Accuracy: 53.2%, Avg loss: 0.686227 \n",
      "\n",
      "CPU times: user 488 ms, sys: 3.51 ms, total: 492 ms\n",
      "Wall time: 123 ms\n"
     ]
    }
   ],
   "source": [
    "%%time\n",
    "train_losses.append( train(train_dataloader, model, loss_fn, optimizer, echo=True) )\n",
    "valid_losses.append( valid(valid_dataloader, model, loss_fn , echo = True) )\n"
   ]
  },
  {
   "cell_type": "code",
   "execution_count": 218,
   "id": "9e2c3878",
   "metadata": {},
   "outputs": [
    {
     "name": "stdout",
     "output_type": "stream",
     "text": [
      "Epoch 1\n",
      "-------------------------------\n",
      "Valid Error: \n",
      " Accuracy: 55.4%, Avg loss: 0.681223 \n",
      "\n",
      "Epoch 11\n",
      "-------------------------------\n",
      "Valid Error: \n",
      " Accuracy: 58.0%, Avg loss: 0.677500 \n",
      "\n",
      "Epoch 21\n",
      "-------------------------------\n",
      "Valid Error: \n",
      " Accuracy: 60.4%, Avg loss: 0.712598 \n",
      "\n",
      "Epoch 31\n",
      "-------------------------------\n",
      "Valid Error: \n",
      " Accuracy: 58.7%, Avg loss: 0.746928 \n",
      "\n",
      "Epoch 41\n",
      "-------------------------------\n",
      "Valid Error: \n",
      " Accuracy: 59.8%, Avg loss: 0.693147 \n",
      "\n",
      "Done!\n",
      "CPU times: user 17.7 s, sys: 129 ms, total: 17.8 s\n",
      "Wall time: 4.45 s\n"
     ]
    },
    {
     "data": {
      "text/plain": [
       "[<matplotlib.lines.Line2D at 0x7f8265af5f50>]"
      ]
     },
     "execution_count": 218,
     "metadata": {},
     "output_type": "execute_result"
    },
    {
     "data": {
      "image/png": "[encoded data removed]",
      "text/plain": [
       "<Figure size 640x480 with 1 Axes>"
      ]
     },
     "metadata": {},
     "output_type": "display_data"
    }
   ],
   "source": [
    "%%time\n",
    "\n",
    "epochs = 50\n",
    "train_losses = []\n",
    "valid_losses = []\n",
    "\n",
    "for t in range(epochs):\n",
    "    echo = (t%10 == 0)\n",
    "    if echo:\n",
    "        print(f\"Epoch {t+1}\\n-------------------------------\")\n",
    "    train_losses.append( train(train_dataloader, model, loss_fn, optimizer, echo=False) )\n",
    "    valid_losses.append( valid(valid_dataloader, model, loss_fn , echo = echo) )\n",
    "print(\"Done!\")\n",
    "\n",
    "plt.plot( train_losses , label='train' )\n",
    "plt.plot( valid_losses , label='valid' )"
   ]
  },
  {
   "cell_type": "markdown",
   "id": "d9639e89",
   "metadata": {},
   "source": [
    "\n",
    "## trying without one hot encoding\n"
   ]
  },
  {
   "cell_type": "code",
   "execution_count": 277,
   "id": "16bc2e67",
   "metadata": {},
   "outputs": [
    {
     "data": {
      "text/plain": [
       "torch.float32"
      ]
     },
     "execution_count": 277,
     "metadata": {},
     "output_type": "execute_result"
    }
   ],
   "source": [
    "# input_size – The number of expected features in the input x\n",
    "# hidden_size – The number of features in the hidden state h\n",
    "# num_layers – Number of recurrent layers. E.g., setting num_layers=2 would mean stacking two GRUs together to form a stacked GRU, with the second GRU taking in outputs of the first GRU and computing the final results. Default: 1\n",
    "rnn = nn.LSTM(1, 20, 2)\n",
    "\n",
    "## input data : sequence length , batch size , Hin\n",
    "input = torch.randn(5, 3, 1)\n",
    "\n",
    "output, hn = rnn(input)\n",
    "\n",
    "## output of the last element for each batch\n",
    "output[-1,:,:]\n",
    "\n",
    "output.dtype"
   ]
  },
  {
   "cell_type": "code",
   "execution_count": 278,
   "id": "75bfa819",
   "metadata": {},
   "outputs": [
    {
     "data": {
      "text/plain": [
       "tensor([[[-0.1825],\n",
       "         [ 0.0221],\n",
       "         [-1.4980]],\n",
       "\n",
       "        [[ 2.0474],\n",
       "         [ 0.0489],\n",
       "         [-1.2442]],\n",
       "\n",
       "        [[ 0.5374],\n",
       "         [ 0.9586],\n",
       "         [ 1.1338]],\n",
       "\n",
       "        [[-1.6280],\n",
       "         [ 0.0341],\n",
       "         [-0.9171]],\n",
       "\n",
       "        [[ 0.7682],\n",
       "         [ 0.3130],\n",
       "         [ 1.3659]]])"
      ]
     },
     "execution_count": 278,
     "metadata": {},
     "output_type": "execute_result"
    }
   ],
   "source": [
    "input"
   ]
  },
  {
   "cell_type": "code",
   "execution_count": 281,
   "id": "7df33cef",
   "metadata": {},
   "outputs": [
    {
     "data": {
      "text/plain": [
       "torch.Size([5, 500])"
      ]
     },
     "execution_count": 281,
     "metadata": {},
     "output_type": "execute_result"
    }
   ],
   "source": [
    "x,y = dataset_train[:5]\n",
    "x.shape"
   ]
  },
  {
   "cell_type": "code",
   "execution_count": 283,
   "id": "1a6f8a9d",
   "metadata": {
    "scrolled": true
   },
   "outputs": [
    {
     "data": {
      "text/plain": [
       "torch.Size([5, 500, 1])"
      ]
     },
     "execution_count": 283,
     "metadata": {},
     "output_type": "execute_result"
    }
   ],
   "source": [
    "torch.reshape(x,(5,500,1)).shape"
   ]
  },
  {
   "cell_type": "code",
   "execution_count": 284,
   "id": "e0348d5a",
   "metadata": {},
   "outputs": [],
   "source": [
    "X_train2 = torch.reshape( X_train , ( X_train.shape[0],X_train.shape[1] , 1) )\n",
    "X_valid2 = torch.reshape( X_valid , ( X_valid.shape[0],X_valid.shape[1] , 1) )\n",
    "\n",
    "dataset_train2 = TensorDataset(X_train2,y_train)\n",
    "train_dataloader2 = DataLoader(dataset_train2 , batch_size=128)\n",
    "\n",
    "dataset_valid2 = TensorDataset(X_valid2,y_valid)\n",
    "valid_dataloader2 = DataLoader(dataset_valid2 , batch_size=128)"
   ]
  },
  {
   "cell_type": "code",
   "execution_count": null,
   "id": "3f3532c4",
   "metadata": {},
   "outputs": [],
   "source": []
  },
  {
   "cell_type": "code",
   "execution_count": 287,
   "id": "37ae57e4",
   "metadata": {},
   "outputs": [
    {
     "name": "stdout",
     "output_type": "stream",
     "text": [
      "classifier_LSTM_noOH(\n",
      "  (rnn): LSTM(1, 3)\n",
      "  (classifier): Sequential(\n",
      "    (0): Linear(in_features=3, out_features=1, bias=True)\n",
      "    (1): Sigmoid()\n",
      "  )\n",
      ")\n"
     ]
    }
   ],
   "source": [
    "class classifier_LSTM_noOH(nn.Module):\n",
    "    \n",
    "    def __init__(self , hidden_dim=3 ,\n",
    "                        dropout_fraction = 0.1):\n",
    "        super().__init__()\n",
    "        \n",
    "\n",
    "        self.rnn = nn.LSTM( input_size = 1,\n",
    "                          hidden_size = hidden_dim,\n",
    "                          num_layers = 1)\n",
    "        \n",
    "        self.classifier = nn.Sequential(nn.Linear( hidden_dim,1 ) , \n",
    "                                        nn.Sigmoid())\n",
    "\n",
    "        \n",
    "    def forward(self, x):\n",
    "        \n",
    "        ## x is made of a single 1D sequence of arbitrary length\n",
    "        # assert len( x.shape ) == 1\n",
    "\n",
    "        x = x.type('torch.FloatTensor')\n",
    "        \n",
    "        x,_ = self.rnn( x )\n",
    "        \n",
    "        \n",
    "        ## we grab the last element of each sequence to feed it to the classifier:\n",
    "        x = x[:,-1,:]\n",
    "        \n",
    "        out = self.classifier( x )\n",
    "        return out.squeeze()\n",
    "\n",
    "\n",
    "\n",
    "model = classifier_LSTM_noOH().to(device)\n",
    "print(model)"
   ]
  },
  {
   "cell_type": "code",
   "execution_count": 288,
   "id": "f172cd54",
   "metadata": {},
   "outputs": [
    {
     "data": {
      "text/plain": [
       "tensor([0.5297, 0.4851, 0.5129, 0.5032, 0.5130], grad_fn=<SqueezeBackward0>)"
      ]
     },
     "execution_count": 288,
     "metadata": {},
     "output_type": "execute_result"
    }
   ],
   "source": [
    "x,y = dataset_train2[:5]\n",
    "pred = model(x)\n",
    "pred"
   ]
  },
  {
   "cell_type": "code",
   "execution_count": 289,
   "id": "ab311169",
   "metadata": {},
   "outputs": [
    {
     "data": {
      "text/plain": [
       "tensor(0.7129, grad_fn=<BinaryCrossEntropyBackward0>)"
      ]
     },
     "execution_count": 289,
     "metadata": {},
     "output_type": "execute_result"
    }
   ],
   "source": [
    "loss_fn(pred,y)"
   ]
  },
  {
   "cell_type": "markdown",
   "id": "5e6aec12",
   "metadata": {},
   "source": [
    " ### actual training"
   ]
  },
  {
   "cell_type": "code",
   "execution_count": 291,
   "id": "df73f9d9",
   "metadata": {},
   "outputs": [],
   "source": [
    "model = classifier_LSTM_noOH( hidden_dim= 128,\n",
    "                                dropout_fraction = 0.1).to(device)\n",
    "\n",
    "# list of loss functions https://pytorch.org/docs/stable/nn.html#loss-functions\n",
    "# https://ml-cheatsheet.readthedocs.io/en/latest/loss_functions.html#toc-entry-1\n",
    "loss_fn = nn.BCELoss()\n",
    "\n",
    "# optimizer https://pytorch.org/docs/stable/optim.html\n",
    "# https://ml-cheatsheet.readthedocs.io/en/latest/optimizers.html#sgd\n",
    "optimizer = torch.optim.Adam(model.parameters(), lr= 10**-4 )\n",
    "\n",
    "train_losses = []\n",
    "valid_losses = []\n"
   ]
  },
  {
   "cell_type": "code",
   "execution_count": 292,
   "id": "8ca35988",
   "metadata": {},
   "outputs": [
    {
     "name": "stdout",
     "output_type": "stream",
     "text": [
      "loss: 0.694519  [  128/ 8100]\n",
      "loss: 0.695228  [  256/ 8100]\n",
      "loss: 0.695759  [  384/ 8100]\n",
      "loss: 0.694027  [  512/ 8100]\n",
      "loss: 0.695033  [  640/ 8100]\n",
      "loss: 0.691148  [  768/ 8100]\n",
      "loss: 0.694103  [  896/ 8100]\n",
      "loss: 0.693566  [ 1024/ 8100]\n",
      "loss: 0.694302  [ 1152/ 8100]\n",
      "loss: 0.694397  [ 1280/ 8100]\n",
      "loss: 0.692016  [ 1408/ 8100]\n",
      "loss: 0.693107  [ 1536/ 8100]\n",
      "loss: 0.692817  [ 1664/ 8100]\n",
      "loss: 0.693544  [ 1792/ 8100]\n",
      "loss: 0.694192  [ 1920/ 8100]\n",
      "loss: 0.692472  [ 2048/ 8100]\n",
      "loss: 0.693155  [ 2176/ 8100]\n",
      "loss: 0.693361  [ 2304/ 8100]\n",
      "loss: 0.692456  [ 2432/ 8100]\n",
      "loss: 0.692835  [ 2560/ 8100]\n",
      "loss: 0.693438  [ 2688/ 8100]\n",
      "loss: 0.693736  [ 2816/ 8100]\n",
      "loss: 0.692859  [ 2944/ 8100]\n",
      "loss: 0.692692  [ 3072/ 8100]\n",
      "loss: 0.692785  [ 3200/ 8100]\n",
      "loss: 0.693008  [ 3328/ 8100]\n",
      "loss: 0.693465  [ 3456/ 8100]\n",
      "loss: 0.692562  [ 3584/ 8100]\n",
      "loss: 0.693192  [ 3712/ 8100]\n",
      "loss: 0.693347  [ 3840/ 8100]\n",
      "loss: 0.693225  [ 3968/ 8100]\n",
      "loss: 0.693051  [ 4096/ 8100]\n",
      "loss: 0.693096  [ 4224/ 8100]\n",
      "loss: 0.693122  [ 4352/ 8100]\n",
      "loss: 0.692838  [ 4480/ 8100]\n",
      "loss: 0.693131  [ 4608/ 8100]\n",
      "loss: 0.692812  [ 4736/ 8100]\n",
      "loss: 0.693363  [ 4864/ 8100]\n",
      "loss: 0.692951  [ 4992/ 8100]\n",
      "loss: 0.694214  [ 5120/ 8100]\n",
      "loss: 0.691824  [ 5248/ 8100]\n",
      "loss: 0.693959  [ 5376/ 8100]\n",
      "loss: 0.693078  [ 5504/ 8100]\n",
      "loss: 0.693590  [ 5632/ 8100]\n",
      "loss: 0.693934  [ 5760/ 8100]\n",
      "loss: 0.693041  [ 5888/ 8100]\n",
      "loss: 0.693031  [ 6016/ 8100]\n",
      "loss: 0.693740  [ 6144/ 8100]\n",
      "loss: 0.693408  [ 6272/ 8100]\n",
      "loss: 0.692525  [ 6400/ 8100]\n",
      "loss: 0.693252  [ 6528/ 8100]\n",
      "loss: 0.693638  [ 6656/ 8100]\n",
      "loss: 0.693440  [ 6784/ 8100]\n",
      "loss: 0.693712  [ 6912/ 8100]\n",
      "loss: 0.693677  [ 7040/ 8100]\n",
      "loss: 0.693312  [ 7168/ 8100]\n",
      "loss: 0.692712  [ 7296/ 8100]\n",
      "loss: 0.693636  [ 7424/ 8100]\n",
      "loss: 0.693255  [ 7552/ 8100]\n",
      "loss: 0.692686  [ 7680/ 8100]\n",
      "loss: 0.693031  [ 7808/ 8100]\n",
      "loss: 0.693802  [ 7936/ 8100]\n",
      "loss: 0.692826  [ 8064/ 8100]\n",
      "loss: 0.693440  [ 2304/ 8100]\n",
      "Valid Error: \n",
      " Accuracy: 51.8%, Avg loss: 0.692523 \n",
      "\n",
      "CPU times: user 1min 13s, sys: 14 s, total: 1min 27s\n",
      "Wall time: 22 s\n"
     ]
    }
   ],
   "source": [
    "%%time\n",
    "train_losses.append( train(train_dataloader2, model, loss_fn, optimizer, echo=True) )\n",
    "valid_losses.append( valid(valid_dataloader2, model, loss_fn , echo = True) )\n"
   ]
  },
  {
   "cell_type": "code",
   "execution_count": 293,
   "id": "1cb212e8",
   "metadata": {},
   "outputs": [
    {
     "name": "stdout",
     "output_type": "stream",
     "text": [
      "Epoch 1\n",
      "-------------------------------\n",
      "Valid Error: \n",
      " Accuracy: 53.5%, Avg loss: 0.693045 \n",
      "\n",
      "Epoch 6\n",
      "-------------------------------\n",
      "Valid Error: \n",
      " Accuracy: 56.3%, Avg loss: 0.694501 \n",
      "\n",
      "Epoch 11\n",
      "-------------------------------\n",
      "Valid Error: \n",
      " Accuracy: 57.2%, Avg loss: 0.695898 \n",
      "\n",
      "Epoch 16\n",
      "-------------------------------\n",
      "Valid Error: \n",
      " Accuracy: 56.8%, Avg loss: 0.697171 \n",
      "\n",
      "Done!\n",
      "CPU times: user 23min 54s, sys: 4min 33s, total: 28min 28s\n",
      "Wall time: 7min 7s\n"
     ]
    }
   ],
   "source": [
    "%%time\n",
    "\n",
    "epochs = 20\n",
    "\n",
    "for t in range(epochs):\n",
    "    echo = (t%5 == 0)\n",
    "    if echo:\n",
    "        print(f\"Epoch {t+1}\\n-------------------------------\")\n",
    "    train_losses.append( train(train_dataloader2, model, loss_fn, optimizer, echo=False) )\n",
    "    valid_losses.append( valid(valid_dataloader2, model, loss_fn , echo = echo) )\n",
    "print(\"Done!\")"
   ]
  },
  {
   "cell_type": "code",
   "execution_count": 294,
   "id": "1daa0648",
   "metadata": {
    "scrolled": false
   },
   "outputs": [
    {
     "data": {
      "text/plain": [
       "<matplotlib.legend.Legend at 0x7f8255f352d0>"
      ]
     },
     "execution_count": 294,
     "metadata": {},
     "output_type": "execute_result"
    },
    {
     "data": {
      "image/png": "[encoded data removed]",
      "text/plain": [
       "<Figure size 640x480 with 1 Axes>"
      ]
     },
     "metadata": {},
     "output_type": "display_data"
    }
   ],
   "source": [
    "plt.plot( train_losses , label='train' )\n",
    "plt.plot( valid_losses , label='valid' )\n",
    "plt.legend()"
   ]
  },
  {
   "cell_type": "code",
   "execution_count": null,
   "id": "e2d33a68",
   "metadata": {},
   "outputs": [],
   "source": [
    "  "
   ]
  },
  {
   "cell_type": "code",
   "execution_count": 310,
   "id": "50c24d14",
   "metadata": {},
   "outputs": [
    {
     "name": "stdout",
     "output_type": "stream",
     "text": [
      "classifier_LSTM_embed(\n",
      "  (embedLayer): Embedding(4, 5)\n",
      "  (rnn): LSTM(5, 3, dropout=0.1)\n",
      "  (classifier): Sequential(\n",
      "    (0): Linear(in_features=3, out_features=1, bias=True)\n",
      "    (1): Sigmoid()\n",
      "  )\n",
      ")\n"
     ]
    }
   ],
   "source": [
    "class classifier_LSTM_embed(nn.Module):\n",
    "    \n",
    "    def __init__(self , num_classes = 4 ,\n",
    "                        embed_dim = 5,\n",
    "                        hidden_dim=3 ,\n",
    "                dropout=0.1):\n",
    "        super().__init__()\n",
    "        self.embedLayer = torch.nn.Embedding( num_embeddings = num_classes , embedding_dim = embed_dim )\n",
    "\n",
    "        self.rnn = nn.LSTM( input_size = embed_dim,\n",
    "                          hidden_size = hidden_dim,\n",
    "                          num_layers = 1, dropout=0.1)\n",
    "        \n",
    "        self.classifier = nn.Sequential(nn.Linear( hidden_dim,1 ) , \n",
    "                                        nn.Sigmoid())\n",
    "\n",
    "        \n",
    "    def forward(self, x):\n",
    "\n",
    "        x = self.embedLayer(x)\n",
    "        x,_ = self.rnn( x )\n",
    "        \n",
    "        \n",
    "        ## we grab the last element of each sequence to feed it to the classifier:\n",
    "        x = x[:,-1,:]\n",
    "        \n",
    "        out = self.classifier( x )\n",
    "        return out.squeeze()\n",
    "\n",
    "\n",
    "\n",
    "model = classifier_LSTM_embed().to(device)\n",
    "print(model)"
   ]
  },
  {
   "cell_type": "code",
   "execution_count": 311,
   "id": "90d0a06c",
   "metadata": {},
   "outputs": [
    {
     "data": {
      "text/plain": [
       "(tensor([0.3915, 0.4038, 0.3953, 0.3840, 0.3882], grad_fn=<SqueezeBackward0>),\n",
       " tensor(0.6615, grad_fn=<BinaryCrossEntropyBackward0>))"
      ]
     },
     "execution_count": 311,
     "metadata": {},
     "output_type": "execute_result"
    }
   ],
   "source": [
    "x,y = dataset_train[:5]\n",
    "pred = model(x)\n",
    "pred , loss_fn(pred,y)"
   ]
  },
  {
   "cell_type": "markdown",
   "id": "d2dc44c5",
   "metadata": {},
   "source": [
    " ### actual training"
   ]
  },
  {
   "cell_type": "code",
   "execution_count": 328,
   "id": "dec2468a",
   "metadata": {},
   "outputs": [],
   "source": [
    "model = classifier_LSTM_embed( embed_dim=32, hidden_dim = 32).to(device)\n",
    "\n",
    "# list of loss functions https://pytorch.org/docs/stable/nn.html#loss-functions\n",
    "# https://ml-cheatsheet.readthedocs.io/en/latest/loss_functions.html#toc-entry-1\n",
    "loss_fn = nn.BCELoss()\n",
    "\n",
    "# optimizer https://pytorch.org/docs/stable/optim.html\n",
    "# https://ml-cheatsheet.readthedocs.io/en/latest/optimizers.html#sgd\n",
    "optimizer = torch.optim.Adam(model.parameters(), lr= 10**-3 )\n",
    "\n",
    "train_losses = []\n",
    "valid_losses = []\n"
   ]
  },
  {
   "cell_type": "code",
   "execution_count": 329,
   "id": "5ee79511",
   "metadata": {},
   "outputs": [
    {
     "name": "stdout",
     "output_type": "stream",
     "text": [
      "loss: 0.700941  [  128/ 8100]\n",
      "loss: 0.707200  [  256/ 8100]\n",
      "loss: 0.703041  [  384/ 8100]\n",
      "loss: 0.692281  [  512/ 8100]\n",
      "loss: 0.704949  [  640/ 8100]\n",
      "loss: 0.686746  [  768/ 8100]\n",
      "loss: 0.688145  [  896/ 8100]\n",
      "loss: 0.693517  [ 1024/ 8100]\n",
      "loss: 0.690780  [ 1152/ 8100]\n",
      "loss: 0.692842  [ 1280/ 8100]\n",
      "loss: 0.694546  [ 1408/ 8100]\n",
      "loss: 0.693389  [ 1536/ 8100]\n",
      "loss: 0.697367  [ 1664/ 8100]\n",
      "loss: 0.696866  [ 1792/ 8100]\n",
      "loss: 0.695300  [ 1920/ 8100]\n",
      "loss: 0.693464  [ 2048/ 8100]\n",
      "loss: 0.697773  [ 2176/ 8100]\n",
      "loss: 0.694581  [ 2304/ 8100]\n",
      "loss: 0.695012  [ 2432/ 8100]\n",
      "loss: 0.694197  [ 2560/ 8100]\n",
      "loss: 0.690839  [ 2688/ 8100]\n",
      "loss: 0.692026  [ 2816/ 8100]\n",
      "loss: 0.688985  [ 2944/ 8100]\n",
      "loss: 0.697920  [ 3072/ 8100]\n",
      "loss: 0.692128  [ 3200/ 8100]\n",
      "loss: 0.691650  [ 3328/ 8100]\n",
      "loss: 0.696551  [ 3456/ 8100]\n",
      "loss: 0.683920  [ 3584/ 8100]\n",
      "loss: 0.691543  [ 3712/ 8100]\n",
      "loss: 0.686229  [ 3840/ 8100]\n",
      "loss: 0.688824  [ 3968/ 8100]\n",
      "loss: 0.691910  [ 4096/ 8100]\n",
      "loss: 0.688428  [ 4224/ 8100]\n",
      "loss: 0.686861  [ 4352/ 8100]\n",
      "loss: 0.690175  [ 4480/ 8100]\n",
      "loss: 0.693437  [ 4608/ 8100]\n",
      "loss: 0.694120  [ 4736/ 8100]\n",
      "loss: 0.691361  [ 4864/ 8100]\n",
      "loss: 0.684352  [ 4992/ 8100]\n",
      "loss: 0.686570  [ 5120/ 8100]\n",
      "loss: 0.691063  [ 5248/ 8100]\n",
      "loss: 0.690033  [ 5376/ 8100]\n",
      "loss: 0.690109  [ 5504/ 8100]\n",
      "loss: 0.691837  [ 5632/ 8100]\n",
      "loss: 0.690821  [ 5760/ 8100]\n",
      "loss: 0.687852  [ 5888/ 8100]\n",
      "loss: 0.682077  [ 6016/ 8100]\n",
      "loss: 0.689972  [ 6144/ 8100]\n",
      "loss: 0.690201  [ 6272/ 8100]\n",
      "loss: 0.687319  [ 6400/ 8100]\n",
      "loss: 0.690635  [ 6528/ 8100]\n",
      "loss: 0.687981  [ 6656/ 8100]\n",
      "loss: 0.697383  [ 6784/ 8100]\n",
      "loss: 0.683237  [ 6912/ 8100]\n",
      "loss: 0.694173  [ 7040/ 8100]\n",
      "loss: 0.681870  [ 7168/ 8100]\n",
      "loss: 0.680452  [ 7296/ 8100]\n",
      "loss: 0.685096  [ 7424/ 8100]\n",
      "loss: 0.683905  [ 7552/ 8100]\n",
      "loss: 0.682472  [ 7680/ 8100]\n",
      "loss: 0.704344  [ 7808/ 8100]\n",
      "loss: 0.678100  [ 7936/ 8100]\n",
      "loss: 0.695705  [ 8064/ 8100]\n",
      "loss: 0.698223  [ 2304/ 8100]\n",
      "Valid Error: \n",
      " Accuracy: 56.4%, Avg loss: 0.686137 \n",
      "\n",
      "CPU times: user 19.6 s, sys: 3.09 s, total: 22.7 s\n",
      "Wall time: 5.66 s\n"
     ]
    }
   ],
   "source": [
    "%%time\n",
    "train_losses.append( train(train_dataloader, model, loss_fn, optimizer, echo=True) )\n",
    "valid_losses.append( valid(valid_dataloader, model, loss_fn , echo = True) )\n"
   ]
  },
  {
   "cell_type": "code",
   "execution_count": 332,
   "id": "52f74668",
   "metadata": {},
   "outputs": [
    {
     "name": "stdout",
     "output_type": "stream",
     "text": [
      "Epoch 1\n",
      "-------------------------------\n",
      "Valid Error: \n",
      " Accuracy: 52.5%, Avg loss: 0.726218 \n",
      "\n",
      "Epoch 6\n",
      "-------------------------------\n",
      "Valid Error: \n",
      " Accuracy: 51.7%, Avg loss: 0.740844 \n",
      "\n",
      "Epoch 11\n",
      "-------------------------------\n",
      "Valid Error: \n",
      " Accuracy: 51.6%, Avg loss: 0.758978 \n",
      "\n",
      "Epoch 16\n",
      "-------------------------------\n",
      "Valid Error: \n",
      " Accuracy: 51.5%, Avg loss: 0.771500 \n",
      "\n",
      "Epoch 21\n",
      "-------------------------------\n",
      "Valid Error: \n",
      " Accuracy: 51.3%, Avg loss: 0.787022 \n",
      "\n",
      "Epoch 26\n",
      "-------------------------------\n",
      "Valid Error: \n",
      " Accuracy: 51.7%, Avg loss: 0.809280 \n",
      "\n",
      "Done!\n",
      "CPU times: user 9min 33s, sys: 1min 34s, total: 11min 8s\n",
      "Wall time: 2min 47s\n"
     ]
    }
   ],
   "source": [
    "%%time\n",
    "\n",
    "epochs = 30\n",
    "\n",
    "for t in range(epochs):\n",
    "    echo = (t%5 == 0)\n",
    "    if echo:\n",
    "        print(f\"Epoch {t+1}\\n-------------------------------\")\n",
    "    train_losses.append( train(train_dataloader, model, loss_fn, optimizer, echo=False) )\n",
    "    valid_losses.append( valid(valid_dataloader, model, loss_fn , echo = echo) )\n",
    "print(\"Done!\")"
   ]
  },
  {
   "cell_type": "code",
   "execution_count": 333,
   "id": "8910f727",
   "metadata": {
    "scrolled": false
   },
   "outputs": [
    {
     "data": {
      "text/plain": [
       "<matplotlib.legend.Legend at 0x7f8252f3b950>"
      ]
     },
     "execution_count": 333,
     "metadata": {},
     "output_type": "execute_result"
    },
    {
     "data": {
      "image/png": "[encoded data removed]",
      "text/plain": [
       "<Figure size 640x480 with 1 Axes>"
      ]
     },
     "metadata": {},
     "output_type": "display_data"
    }
   ],
   "source": [
    "plt.plot( train_losses , label='train' )\n",
    "plt.plot( valid_losses , label='valid' )\n",
    "plt.legend()"
   ]
  },
  {
   "cell_type": "code",
   "execution_count": 289,
   "id": "caaa7e72",
   "metadata": {},
   "outputs": [
    {
     "data": {
      "text/plain": [
       "tensor(0.7129, grad_fn=<BinaryCrossEntropyBackward0>)"
      ]
     },
     "execution_count": 289,
     "metadata": {},
     "output_type": "execute_result"
    }
   ],
   "source": []
  },
  {
   "cell_type": "code",
   "execution_count": null,
   "id": "376042b0",
   "metadata": {},
   "outputs": [],
   "source": []
  }
 ],
 "metadata": {
  "kernelspec": {
   "display_name": "Environment (conda_pytorch_course)",
   "language": "python",
   "name": "conda_pytorch_course"
  },
  "language_info": {
   "codemirror_mode": {
    "name": "ipython",
    "version": 3
   },
   "file_extension": ".py",
   "mimetype": "text/x-python",
   "name": "python",
   "nbconvert_exporter": "python",
   "pygments_lexer": "ipython3",
   "version": "3.11.5"
  }
 },
 "nbformat": 4,
 "nbformat_minor": 5
}
