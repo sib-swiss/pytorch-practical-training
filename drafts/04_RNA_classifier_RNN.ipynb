{
 "cells": [
  {
   "cell_type": "code",
   "execution_count": 225,
   "id": "df3f496e",
   "metadata": {},
   "outputs": [
    {
     "name": "stdout",
     "output_type": "stream",
     "text": [
      "Using cpu device\n"
     ]
    }
   ],
   "source": [
    "import pandas as pd\n",
    "import numpy as np\n",
    "import matplotlib.pyplot as plt\n",
    "import seaborn as sns\n",
    "from sklearn.manifold import TSNE\n",
    "from sklearn.decomposition import PCA\n",
    "\n",
    "\n",
    "import torch\n",
    "from torch import nn\n",
    "import pytorch_model_summary as pms \n",
    "\n",
    "from torch.utils.data import Dataset, DataLoader\n",
    "\n",
    "from pytorchtools import EarlyStopping\n",
    "\n",
    "# Get cpu, gpu or mps device for training.\n",
    "device = (\n",
    "    \"cuda\"\n",
    "    if torch.cuda.is_available()\n",
    "    else \"mps\"\n",
    "    if torch.backends.mps.is_available()\n",
    "    else \"cpu\"\n",
    ")\n",
    "print(f\"Using {device} device\")\n"
   ]
  },
  {
   "cell_type": "markdown",
   "id": "9578de53",
   "metadata": {},
   "source": [
    "### basic RNN"
   ]
  },
  {
   "cell_type": "code",
   "execution_count": 226,
   "id": "7ed54214",
   "metadata": {},
   "outputs": [],
   "source": [
    "# input_size – The number of expected features in the input x\n",
    "# hidden_size – The number of features in the hidden state h\n",
    "# num_layers – Number of recurrent layers. E.g., setting num_layers=2 would mean stacking two GRUs together to form a stacked GRU, with the second GRU taking in outputs of the first GRU and computing the final results. Default: 1\n",
    "rnn = nn.GRU(10, 20, 2)\n",
    "\n",
    "## input data : sequence length , batch size , Hin\n",
    "input = torch.randn(5, 3, 10)\n",
    "\n",
    "## initial hidden state for the input sequence\n",
    "h0 = torch.randn(2, 3, 20)\n",
    "\n",
    "\n",
    "output, hn = rnn(input, h0)"
   ]
  },
  {
   "cell_type": "code",
   "execution_count": 227,
   "id": "f4e84511",
   "metadata": {},
   "outputs": [
    {
     "data": {
      "text/plain": [
       "tensor([[-0.1410, -0.0244, -0.0114, -0.1652,  0.2008, -0.4866,  0.1948, -0.3686,\n",
       "         -0.0619, -0.1607, -0.0314, -0.1700,  0.2453, -0.0700,  0.2141, -0.2971,\n",
       "          0.0807,  0.0702, -0.0469, -0.0449],\n",
       "        [-0.0905, -0.0125, -0.0081, -0.0299,  0.1285, -0.4196,  0.2351, -0.4542,\n",
       "          0.1982, -0.2777, -0.0134, -0.2162, -0.0828, -0.1422, -0.0150,  0.0030,\n",
       "          0.1734,  0.0247, -0.0127, -0.0231],\n",
       "        [-0.2443, -0.0641,  0.2381, -0.0982,  0.0118, -0.1624,  0.4691, -0.5002,\n",
       "          0.2875, -0.3131,  0.1864, -0.1490,  0.0924, -0.3016,  0.0367,  0.3347,\n",
       "         -0.0323, -0.0166, -0.1118, -0.1859]], grad_fn=<SliceBackward0>)"
      ]
     },
     "execution_count": 227,
     "metadata": {},
     "output_type": "execute_result"
    }
   ],
   "source": [
    "## output of the last element for each batch\n",
    "output[-1,:,:]"
   ]
  },
  {
   "cell_type": "code",
   "execution_count": 228,
   "id": "95dd4d74",
   "metadata": {},
   "outputs": [
    {
     "data": {
      "text/plain": [
       "torch.float32"
      ]
     },
     "execution_count": 228,
     "metadata": {},
     "output_type": "execute_result"
    }
   ],
   "source": [
    "output.dtype"
   ]
  },
  {
   "cell_type": "markdown",
   "id": "74c3219a",
   "metadata": {},
   "source": [
    "### one-hot encoding > RNN"
   ]
  },
  {
   "cell_type": "code",
   "execution_count": 229,
   "id": "689097fc",
   "metadata": {},
   "outputs": [],
   "source": [
    "seq =\"AUGCCCCAGAUUNN\"\n",
    "\n",
    "seq2n = {\"A\":0,\"U\":1,\"G\":2,\"C\":3,\"N\":4}\n",
    "\n",
    "\n",
    "seq_tensor = torch.LongTensor( [seq2n[x] for x in seq] )\n"
   ]
  },
  {
   "cell_type": "code",
   "execution_count": 230,
   "id": "ce57937f",
   "metadata": {},
   "outputs": [],
   "source": [
    "seq_tensor_OH = nn.functional.one_hot( seq_tensor , num_classes = 5 )\n",
    "seq_tensor_OH = seq_tensor_OH.type('torch.FloatTensor')"
   ]
  },
  {
   "cell_type": "code",
   "execution_count": 231,
   "id": "a0d4c353",
   "metadata": {},
   "outputs": [
    {
     "data": {
      "text/plain": [
       "torch.float32"
      ]
     },
     "execution_count": 231,
     "metadata": {},
     "output_type": "execute_result"
    }
   ],
   "source": [
    "seq_tensor_OH.dtype"
   ]
  },
  {
   "cell_type": "code",
   "execution_count": 232,
   "id": "b129e679",
   "metadata": {
    "scrolled": true
   },
   "outputs": [
    {
     "data": {
      "text/plain": [
       "tensor([[ 0.2133, -0.0309],\n",
       "        [ 0.5421, -0.2301],\n",
       "        [ 0.4051, -0.2710],\n",
       "        [ 0.3645, -0.2742],\n",
       "        [ 0.3510, -0.2712],\n",
       "        [ 0.3464, -0.2676],\n",
       "        [ 0.3448, -0.2647],\n",
       "        [ 0.3840, -0.2279],\n",
       "        [ 0.3299, -0.2643],\n",
       "        [ 0.3779, -0.2269],\n",
       "        [ 0.6355, -0.3773],\n",
       "        [ 0.7647, -0.4885],\n",
       "        [ 0.6573, -0.4093],\n",
       "        [ 0.6201, -0.3429]], grad_fn=<SqueezeBackward1>)"
      ]
     },
     "execution_count": 232,
     "metadata": {},
     "output_type": "execute_result"
    }
   ],
   "source": [
    "inputSize_GRU = 5 \n",
    "outputSize_GRU = 2\n",
    "\n",
    "\n",
    "rnn = nn.GRU(inputSize_GRU, outputSize_GRU, 1)\n",
    "output , _ = rnn(seq_tensor_OH)\n",
    "output"
   ]
  },
  {
   "cell_type": "markdown",
   "id": "264db490",
   "metadata": {},
   "source": [
    "### RNN > classifier"
   ]
  },
  {
   "cell_type": "code",
   "execution_count": 233,
   "id": "85fca077",
   "metadata": {},
   "outputs": [
    {
     "data": {
      "text/plain": [
       "tensor([[0.4352],\n",
       "        [0.5172],\n",
       "        [0.5044],\n",
       "        [0.4990],\n",
       "        [0.4965],\n",
       "        [0.4952],\n",
       "        [0.4945],\n",
       "        [0.4938],\n",
       "        [0.4923],\n",
       "        [0.4928],\n",
       "        [0.5561],\n",
       "        [0.5934],\n",
       "        [0.5647],\n",
       "        [0.5480]], grad_fn=<SigmoidBackward0>)"
      ]
     },
     "execution_count": 233,
     "metadata": {},
     "output_type": "execute_result"
    }
   ],
   "source": [
    "classif = nn.Sequential(nn.Linear( outputSize_GRU,1 ) , nn.Sigmoid())\n",
    "\n",
    "classif(output)"
   ]
  },
  {
   "cell_type": "markdown",
   "id": "0cf2c5de",
   "metadata": {},
   "source": [
    "So we have a way to get from a sequence of abitrary length to a \"classical\" layer from which we can do whatever we want.\n",
    "\n",
    "There is one little trouble here : **how do we handle Batches?** \n",
    "\n",
    "Because a batch is a Tensor, so it should have fixed dimensions, \n",
    "but will contain multiple sequence, which have a different number of nucleosides...\n",
    "\n",
    "---\n",
    "\n",
    "Possibilities:\n",
    " \n",
    " - don't use batches\n",
    " - [pad the sequences](https://pytorch.org/docs/stable/generated/torch.nn.utils.rnn.pad_sequence.html#torch.nn.utils.rnn.pad_sequence) (BUT, this imposes a maximum size + memory inneficient + what to pad with? + ...)\n",
    " - [pack the sequences](https://pytorch.org/docs/stable/generated/torch.nn.utils.rnn.pack_sequence.html#torch.nn.utils.rnn.pack_sequence): can work well, but there is additional codework if you don't want to go directly from the input to the RNN (see some proposed solutions [here](https://discuss.pytorch.org/t/how-to-use-pack-sequence-if-we-are-going-to-use-word-embedding-and-bilstm/28184/8)).\n",
    "\n",
    "---\n",
    "\n",
    "\n",
    "We are going to keep it simple and forego batches for this simple examples"
   ]
  },
  {
   "cell_type": "markdown",
   "id": "7d20b390",
   "metadata": {},
   "source": [
    "### putting it all together\n",
    "\n",
    "> **TMP** for playiing around, I use a LSTM instead of GRU because it is way faster\n"
   ]
  },
  {
   "cell_type": "code",
   "execution_count": 234,
   "id": "836ebc04",
   "metadata": {},
   "outputs": [
    {
     "name": "stdout",
     "output_type": "stream",
     "text": [
      "RNAclassifier_GRU(\n",
      "  (rnn): LSTM(5, 3)\n",
      "  (classifier): Sequential(\n",
      "    (0): Linear(in_features=3, out_features=1, bias=True)\n",
      "    (1): Sigmoid()\n",
      "  )\n",
      ")\n"
     ]
    }
   ],
   "source": [
    "class RNAclassifier_GRU(nn.Module):\n",
    "    \n",
    "    def __init__(self , num_classes = 5 , \n",
    "                        hidden_dim=3 ,\n",
    "                        dropout_fraction = 0.1):\n",
    "        super().__init__()\n",
    "        \n",
    "        self.num_classes = num_classes\n",
    "        self.rnn = nn.LSTM( input_size = num_classes,\n",
    "                          hidden_size = hidden_dim,\n",
    "                          num_layers = 1)\n",
    "        \n",
    "        self.classifier = nn.Sequential(nn.Linear( hidden_dim,1 ) , \n",
    "                                        nn.Sigmoid())\n",
    "\n",
    "        \n",
    "    def forward(self, sequence):\n",
    "        \n",
    "        ## x is made of a single 1D sequence of arbitrary length\n",
    "        # assert len( x.shape ) == 1\n",
    "        \n",
    "        x = nn.functional.one_hot( sequence ,\n",
    "                                  num_classes = self.num_classes )\n",
    "        x = x.type('torch.FloatTensor')\n",
    "        \n",
    "        x,_ = self.rnn( x )\n",
    "        \n",
    "        \n",
    "        ## we grab the last element of each sequence to feed it to the classifier:\n",
    "        x = x[-1,:]\n",
    "        \n",
    "        out = self.classifier( x )\n",
    "        return out.squeeze()\n",
    "\n",
    "\n",
    "\n",
    "model = RNAclassifier_GRU().to(device)\n",
    "print(model)"
   ]
  },
  {
   "cell_type": "code",
   "execution_count": 235,
   "id": "261304e1",
   "metadata": {},
   "outputs": [
    {
     "name": "stdout",
     "output_type": "stream",
     "text": [
      "-----------------------------------------------------------------------\n",
      "      Layer (type)         Input Shape         Param #     Tr. Param #\n",
      "=======================================================================\n",
      "            LSTM-1             [14, 5]             120             120\n",
      "          Linear-2                 [3]               4               4\n",
      "         Sigmoid-3                 [1]               0               0\n",
      "=======================================================================\n",
      "Total params: 124\n",
      "Trainable params: 124\n",
      "Non-trainable params: 0\n",
      "-----------------------------------------------------------------------\n"
     ]
    }
   ],
   "source": [
    "## seq_tensor.unsqueeze(1) --> make it a batch of size 1 where the batch is in dimension 1 (by default this is what is expected by GRU)\n",
    "print(pms.summary(model, seq_tensor, show_input=True))"
   ]
  },
  {
   "cell_type": "markdown",
   "id": "dfff5705",
   "metadata": {},
   "source": [
    "For the number of parameters in the GRU, remember the\n",
    "[structure of a GRU](https://ml-cheatsheet.readthedocs.io/en/latest/layers.html#gru)\n",
    "\n",
    "![structure of a GRU from stanford.edu/~shervine/teaching/cs-230](https://stanford.edu/~shervine/teaching/cs-230/illustrations/gru-ltr.png?00f278f71b4833d32a87ed53d86f251c)\n",
    "\n",
    "In there, you need weights and biases for :\n",
    "\n",
    " - $\\Gamma_u$ : update gate\n",
    " - $\\Gamma_r$ : relevance gate\n",
    " - relevance and input combination\n",
    "\n"
   ]
  },
  {
   "cell_type": "code",
   "execution_count": 236,
   "id": "52bd7334",
   "metadata": {},
   "outputs": [
    {
     "name": "stdout",
     "output_type": "stream",
     "text": [
      "ih weight 60\n",
      "ih bias   12\n",
      "hh weight 36\n",
      "hh bias   12\n"
     ]
    }
   ],
   "source": [
    "## number of parameters in the GRU:\n",
    "\n",
    "## input to hidden \n",
    "print(\"ih weight\" , model.rnn.weight_ih_l0.numel()) ## 3*hidden*input\n",
    "print(\"ih bias  \" ,model.rnn.bias_ih_l0.numel()   ) ## 3*hidden\n",
    "\n",
    "## hidden to hidden\n",
    "print(\"hh weight\" , model.rnn.weight_hh_l0.numel()) ## 3*hidden*hidden\n",
    "print(\"hh bias  \" ,model.rnn.bias_hh_l0.numel()   ) ## 3*hidden\n",
    "\n"
   ]
  },
  {
   "cell_type": "markdown",
   "id": "22bb3052",
   "metadata": {},
   "source": [
    "## getting the data\n",
    "\n",
    "https://osf.io/4htpy/files/osfstorage\n"
   ]
  },
  {
   "cell_type": "code",
   "execution_count": 237,
   "id": "2fdd4956",
   "metadata": {},
   "outputs": [],
   "source": [
    "def read_fasta( IN ):\n",
    "    seqs={}\n",
    "    sid = ''\n",
    "    for l in IN:\n",
    "        if l.startswith('>'):\n",
    "            sid = l[1:].partition('|')[0]\n",
    "            seqs[sid]=''\n",
    "        else:\n",
    "            seqs[sid]+=l.strip()\n",
    "    return seqs\n",
    "             \n",
    "        "
   ]
  },
  {
   "cell_type": "code",
   "execution_count": 238,
   "id": "2d51e1dd",
   "metadata": {},
   "outputs": [],
   "source": [
    "## 0: lncRNA\n",
    "## 1: mRNA\n",
    "seqIds_to_type = {}"
   ]
  },
  {
   "cell_type": "code",
   "execution_count": 239,
   "id": "42c5589f",
   "metadata": {},
   "outputs": [
    {
     "name": "stdout",
     "output_type": "stream",
     "text": [
      "32000\n",
      "['ENST00000584109.1', 'ENST00000569752.1', 'ENST00000609152.1', 'ENST00000444079.1', 'ENST00000437616.1']\n"
     ]
    }
   ],
   "source": [
    "train_seqs = {}\n",
    "\n",
    "with open('data/mRNN/lncRNAs.train16K.fa','r') as IN:\n",
    "    tmp = read_fasta(IN)\n",
    "    \n",
    "    train_seqs.update( tmp )\n",
    "    seqIds_to_type.update( {k:0 for k in tmp.keys()} )\n",
    "    \n",
    "with open('data/mRNN/mRNAs.train16K.fa','r') as IN:\n",
    "    tmp = read_fasta(IN)\n",
    "    \n",
    "    train_seqs.update( tmp )\n",
    "    seqIds_to_type.update( {k:1 for k in tmp.keys()} )\n",
    "    \n",
    "    \n",
    "    \n",
    "print( len( train_seqs ) )\n",
    "print( list(train_seqs.keys())[:5] )"
   ]
  },
  {
   "cell_type": "code",
   "execution_count": 240,
   "id": "f5776c53",
   "metadata": {},
   "outputs": [
    {
     "name": "stdout",
     "output_type": "stream",
     "text": [
      "1000\n",
      "['ENST00000614618.1', 'ENST00000563949.1', 'ENST00000433228.1', 'ENST00000425476.5', 'ENST00000624987.1']\n"
     ]
    }
   ],
   "source": [
    "valid_seqs = {}\n",
    "\n",
    "with open('data/mRNN/lncRNAs.TEST500.fa','r') as IN:\n",
    "    tmp = read_fasta(IN)\n",
    "    \n",
    "    valid_seqs.update( tmp )\n",
    "    seqIds_to_type.update( {k:0 for k in tmp.keys()} )\n",
    "    \n",
    "with open('data/mRNN/mRNAs.TEST500.fa','r') as IN:\n",
    "    tmp = read_fasta(IN)\n",
    "    \n",
    "    valid_seqs.update( tmp )\n",
    "    seqIds_to_type.update( {k:1 for k in tmp.keys()} )\n",
    "    \n",
    "    \n",
    "print( len( valid_seqs ) )\n",
    "print( list(valid_seqs.keys())[:5] )"
   ]
  },
  {
   "cell_type": "code",
   "execution_count": 241,
   "id": "e0e13052",
   "metadata": {},
   "outputs": [],
   "source": [
    "train_keys = list(train_seqs.keys())\n",
    "valid_keys = list(valid_seqs.keys())\n",
    "### shuffle the train and valid sets\n",
    "np.random.shuffle(train_keys)\n",
    "np.random.shuffle(valid_keys)\n"
   ]
  },
  {
   "cell_type": "code",
   "execution_count": 242,
   "id": "8834f4be",
   "metadata": {},
   "outputs": [
    {
     "name": "stdout",
     "output_type": "stream",
     "text": [
      "CPU times: user 6.32 s, sys: 173 ms, total: 6.5 s\n",
      "Wall time: 6.3 s\n"
     ]
    }
   ],
   "source": [
    "%%time\n",
    "## transform them to integer tensors:\n",
    "seq2n = {\"A\":0,\"U\":1,'T':1,\"G\":2,\"C\":3,\"N\":4}\n",
    "makeTensor = lambda seq: torch.LongTensor( [seq2n[x] for x in seq] )\n",
    "\n",
    "\n",
    "X_train = [ makeTensor( train_seqs[k] ) for k in train_keys ]\n",
    "X_valid = [ makeTensor( valid_seqs[k] ) for k in valid_keys ]"
   ]
  },
  {
   "cell_type": "code",
   "execution_count": 243,
   "id": "f89fabcf",
   "metadata": {},
   "outputs": [],
   "source": [
    "y_train = torch.Tensor( [ seqIds_to_type[k] for k in train_keys ] )\n",
    "y_valid = torch.Tensor( [ seqIds_to_type[k] for k in valid_keys ] )"
   ]
  },
  {
   "cell_type": "code",
   "execution_count": 244,
   "id": "dfb872f5",
   "metadata": {},
   "outputs": [],
   "source": [
    "train_dataset = list( zip(X_train,y_train) )\n",
    "valid_dataset = list( zip(X_valid,y_valid) )"
   ]
  },
  {
   "cell_type": "code",
   "execution_count": 245,
   "id": "975e48dd",
   "metadata": {},
   "outputs": [],
   "source": [
    "del train_seqs\n",
    "del valid_seqs"
   ]
  },
  {
   "cell_type": "code",
   "execution_count": 255,
   "id": "b0f1eabb",
   "metadata": {},
   "outputs": [
    {
     "name": "stdout",
     "output_type": "stream",
     "text": [
      "prediction  : 0.40056124329566956\n",
      "ground truth: 1.0\n"
     ]
    }
   ],
   "source": [
    "## check that the data goes in the model\n",
    "with torch.no_grad():\n",
    "    \n",
    "    x,y = train_dataset[0]\n",
    "    \n",
    "    p = model( x )\n",
    "    print(\"prediction  :\",p.item())\n",
    "    print(\"ground truth:\",y.item())"
   ]
  },
  {
   "cell_type": "markdown",
   "id": "753fd337",
   "metadata": {},
   "source": [
    "## setup training "
   ]
  },
  {
   "cell_type": "code",
   "execution_count": 247,
   "id": "48660eb0",
   "metadata": {},
   "outputs": [],
   "source": [
    "def train(dataset, model, loss_fn, optimizer , echo = True, echo_batch_every=-1):\n",
    "    \n",
    "    size = len(dataset) \n",
    "    model.train() #     Sets the module in training mode.\n",
    "    \n",
    "    avg_loss = 0\n",
    "    \n",
    "    for batch , (X, y) in enumerate(dataset): # for each batch\n",
    "        X, y = X.to(device), y.to(device) # send the data to the GPU or whatever device you use for training\n",
    "\n",
    "        # Compute prediction error\n",
    "        pred = model(X)              # prediction for the model -> forward pass\n",
    "        loss = loss_fn(pred, y)      # loss function from these prediction\n",
    "\n",
    "        avg_loss += loss.item()\n",
    "        \n",
    "\n",
    "        if echo_batch_every>0 and batch%echo_batch_every==0:\n",
    "            current =  1+batch\n",
    "            print(f\"loss: {avg_loss/current:>7f}  [{current:>5d}/{size:>5d}]\")\n",
    "\n",
    "        loss.backward()              # backward propagation \n",
    "\n",
    "        optimizer.step()             \n",
    "        optimizer.zero_grad()        # reset the gradients\n",
    "        \n",
    "    if echo:\n",
    "        print(f\"Train loss: {avg_loss/size:>7f}\")\n",
    "    \n",
    "    # return the last batch loss:\n",
    "    return avg_loss/size"
   ]
  },
  {
   "cell_type": "code",
   "execution_count": 248,
   "id": "c5cd6452",
   "metadata": {},
   "outputs": [],
   "source": [
    "def valid(dataset, model, loss_fn, echo = True):\n",
    "    size = len(dataset)\n",
    "\n",
    "    model.eval() #     Sets the module in evaluation mode\n",
    "    valid_loss, correct = 0, 0\n",
    "    with torch.no_grad(): \n",
    "        for X, y in dataset:\n",
    "            X, y = X.to(device), y.to(device)\n",
    "            pred = model(X)\n",
    "            valid_loss += loss_fn(pred, y).item()  ## accumulating the loss function over the batches\n",
    "            \n",
    "            correct += ((pred.item()>0.5) == y.item()) ## counting number of true predictions\n",
    "            \n",
    "    valid_loss /= size\n",
    "    correct /= size\n",
    "    if echo:\n",
    "        print(f\"Valid Error: \\n Accuracy: {(100*correct):>0.1f}%, Avg loss: {valid_loss:>8f} \\n\")\n",
    "\n",
    "    return valid_loss\n"
   ]
  },
  {
   "cell_type": "markdown",
   "id": "520132f2",
   "metadata": {},
   "source": [
    "## training"
   ]
  },
  {
   "cell_type": "code",
   "execution_count": 249,
   "id": "e8839ae3",
   "metadata": {},
   "outputs": [],
   "source": [
    "## preamble -> define the model, the loss function, and the optimizer\n",
    "model = RNAclassifier_GRU(num_classes = 5 , \n",
    "                          hidden_dim=30 ,\n",
    "                          dropout_fraction = 0.1).to(device)\n",
    "\n",
    "\n",
    "loss = nn.BCELoss()\n",
    "\n",
    "optimizer = torch.optim.Adam(model.parameters(), lr = 10**-3)\n",
    "\n",
    "## container to keep the scores across all epochs\n",
    "train_scores = []\n",
    "valid_scores = []\n",
    "\n",
    "\n",
    "# overfitting can be an issue here. \n",
    "# we use the early stopping implemented in https://github.com/Bjarten/early-stopping-pytorch\n",
    "# initialize the early_stopping object. \n",
    "# patience: How long to wait after last time validation loss improved.\n",
    "# early_stopping = EarlyStopping(patience=25, verbose=False)\n"
   ]
  },
  {
   "cell_type": "code",
   "execution_count": 250,
   "id": "8d24807e",
   "metadata": {},
   "outputs": [
    {
     "name": "stdout",
     "output_type": "stream",
     "text": [
      "loss: 0.789578  [    1/32000]\n",
      "loss: 0.698780  [ 1001/32000]\n",
      "loss: 0.695348  [ 2001/32000]\n",
      "loss: 0.695511  [ 3001/32000]\n",
      "loss: 0.696386  [ 4001/32000]\n",
      "loss: 0.696631  [ 5001/32000]\n",
      "loss: 0.697147  [ 6001/32000]\n",
      "loss: 0.697385  [ 7001/32000]\n",
      "loss: 0.697095  [ 8001/32000]\n",
      "loss: 0.697129  [ 9001/32000]\n",
      "loss: 0.697392  [10001/32000]\n",
      "loss: 0.697156  [11001/32000]\n",
      "loss: 0.696988  [12001/32000]\n",
      "loss: 0.696875  [13001/32000]\n",
      "loss: 0.696907  [14001/32000]\n",
      "loss: 0.696826  [15001/32000]\n",
      "loss: 0.696768  [16001/32000]\n",
      "loss: 0.696913  [17001/32000]\n",
      "loss: 0.696984  [18001/32000]\n",
      "loss: 0.696790  [19001/32000]\n",
      "loss: 0.696765  [20001/32000]\n",
      "loss: 0.696793  [21001/32000]\n",
      "loss: 0.696824  [22001/32000]\n",
      "loss: 0.696889  [23001/32000]\n",
      "loss: 0.696774  [24001/32000]\n",
      "loss: 0.696695  [25001/32000]\n",
      "loss: 0.696813  [26001/32000]\n",
      "loss: 0.696711  [27001/32000]\n",
      "loss: 0.696778  [28001/32000]\n",
      "loss: 0.696895  [29001/32000]\n",
      "loss: 0.696940  [30001/32000]\n",
      "loss: 0.696969  [31001/32000]\n",
      "Train loss: 0.696891\n",
      "CPU times: user 3min 21s, sys: 1.62 s, total: 3min 22s\n",
      "Wall time: 50.7 s\n"
     ]
    }
   ],
   "source": [
    "%%time\n",
    "## lets do a single round, to learn how long it takes\n",
    "train_scores.append( train(train_dataset, \n",
    "                           model, \n",
    "                           loss, \n",
    "                           optimizer, \n",
    "                           echo = True , echo_batch_every= 1000 ) )"
   ]
  },
  {
   "cell_type": "code",
   "execution_count": 251,
   "id": "4511a336",
   "metadata": {},
   "outputs": [
    {
     "name": "stdout",
     "output_type": "stream",
     "text": [
      "Valid Error: \n",
      " Accuracy: 50.0%, Avg loss: 0.696703 \n",
      "\n",
      "CPU times: user 12.9 s, sys: 180 ms, total: 13.1 s\n",
      "Wall time: 3.28 s\n"
     ]
    }
   ],
   "source": [
    "%%time\n",
    "valid_scores.append( valid(valid_dataset, \n",
    "                           model, \n",
    "                           loss , \n",
    "                           echo = True) )"
   ]
  },
  {
   "cell_type": "code",
   "execution_count": 253,
   "id": "f570236e",
   "metadata": {},
   "outputs": [
    {
     "name": "stdout",
     "output_type": "stream",
     "text": [
      "Epoch 11\n",
      "Train loss: 0.702070\n",
      "Valid Error: \n",
      " Accuracy: 50.0%, Avg loss: 0.702228 \n",
      "\n",
      "Epoch 12\n",
      "Train loss: 0.702797\n",
      "Valid Error: \n",
      " Accuracy: 50.0%, Avg loss: 0.703012 \n",
      "\n",
      "Epoch 13\n",
      "Train loss: 0.703572\n",
      "Valid Error: \n",
      " Accuracy: 50.0%, Avg loss: 0.703858 \n",
      "\n",
      "Epoch 14\n",
      "Train loss: 0.704402\n",
      "Valid Error: \n",
      " Accuracy: 50.0%, Avg loss: 0.704772 \n",
      "\n",
      "Epoch 15\n",
      "Train loss: 0.705294\n",
      "Valid Error: \n",
      " Accuracy: 50.0%, Avg loss: 0.705762 \n",
      "\n",
      "Epoch 16\n",
      "Train loss: 0.706255\n",
      "Valid Error: \n",
      " Accuracy: 50.0%, Avg loss: 0.706836 \n",
      "\n",
      "Epoch 17\n",
      "Train loss: 0.707296\n",
      "Valid Error: \n",
      " Accuracy: 50.0%, Avg loss: 0.708006 \n",
      "\n",
      "Epoch 18\n",
      "Train loss: 0.708427\n",
      "Valid Error: \n",
      " Accuracy: 50.0%, Avg loss: 0.709285 \n",
      "\n",
      "Epoch 19\n",
      "Train loss: 0.709662\n",
      "Valid Error: \n",
      " Accuracy: 50.0%, Avg loss: 0.710688 \n",
      "\n",
      "Epoch 20\n",
      "Train loss: 0.711016\n",
      "Valid Error: \n",
      " Accuracy: 50.0%, Avg loss: 0.712233 \n",
      "\n",
      "CPU times: user 41min 46s, sys: 21.6 s, total: 42min 7s\n",
      "Wall time: 10min 32s\n"
     ]
    }
   ],
   "source": [
    "%%time\n",
    "\n",
    "epoch = 10\n",
    "\n",
    "\n",
    "\n",
    "for t in range(epoch):\n",
    "    echo = t%1==0\n",
    "    if echo:\n",
    "        print('Epoch',len(train_scores)+1 )    \n",
    "\n",
    "    train_scores.append( train(train_dataset, \n",
    "                               model, \n",
    "                               loss, \n",
    "                               optimizer, \n",
    "                               echo = echo ) )\n",
    "\n",
    "    valid_scores.append( valid(valid_dataset, \n",
    "                               model, \n",
    "                               loss , \n",
    "                               echo = echo) )\n",
    "\n",
    "\n",
    "    "
   ]
  },
  {
   "cell_type": "code",
   "execution_count": 254,
   "id": "742b8212",
   "metadata": {},
   "outputs": [
    {
     "data": {
      "text/plain": [
       "Text(0, 0.5, 'BCE loss')"
      ]
     },
     "execution_count": 254,
     "metadata": {},
     "output_type": "execute_result"
    },
    {
     "data": {
      "image/png": "[encoded data removed]",
      "text/plain": [
       "<Figure size 640x480 with 1 Axes>"
      ]
     },
     "metadata": {},
     "output_type": "display_data"
    }
   ],
   "source": [
    "plt.plot(train_scores , label = 'train')\n",
    "plt.plot(valid_scores, label = 'validation')\n",
    "plt.legend()\n",
    "plt.xlabel('epoch')\n",
    "plt.ylabel('BCE loss')"
   ]
  },
  {
   "cell_type": "markdown",
   "id": "d3d7dee1",
   "metadata": {},
   "source": [
    "## embedding > RNN"
   ]
  },
  {
   "cell_type": "code",
   "execution_count": null,
   "id": "3b2a365d",
   "metadata": {},
   "outputs": [],
   "source": [
    "EmbedLayer = torch.nn.Embedding( num_embeddings = 5 , embedding_dim = 5 )\n",
    "\n",
    "seq_embedded = EmbedLayer(seq_tensor)\n",
    "seq_embedded"
   ]
  },
  {
   "cell_type": "code",
   "execution_count": null,
   "id": "6163b772",
   "metadata": {
    "scrolled": true
   },
   "outputs": [],
   "source": [
    "output , _ = rnn(seq_embedded)\n",
    "output"
   ]
  }
 ],
 "metadata": {
  "kernelspec": {
   "display_name": "Environment (conda_pytorch_course)",
   "language": "python",
   "name": "conda_pytorch_course"
  },
  "language_info": {
   "codemirror_mode": {
    "name": "ipython",
    "version": 3
   },
   "file_extension": ".py",
   "mimetype": "text/x-python",
   "name": "python",
   "nbconvert_exporter": "python",
   "pygments_lexer": "ipython3",
   "version": "3.11.5"
  }
 },
 "nbformat": 4,
 "nbformat_minor": 5
}
